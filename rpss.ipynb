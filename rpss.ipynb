{
 "cells": [
  {
   "cell_type": "code",
   "execution_count": null,
   "metadata": {},
   "outputs": [],
   "source": [
    "# install new code"
   ]
  },
  {
   "cell_type": "code",
   "execution_count": null,
   "metadata": {},
   "outputs": [],
   "source": [
    "# install https://github.com/xarray-contrib/xskillscore/pull/277 PR with fixed RPS\n",
    "!pip install git+https://github.com/xarray-contrib/xskillscore.git@refs/pull/277/head"
   ]
  },
  {
   "cell_type": "code",
   "execution_count": null,
   "metadata": {},
   "outputs": [],
   "source": [
    "# install https://github.com/pangeo-data/climpred/pull/566 PR with climatology\n",
    "!pip install git+https://github.com/pangeo-data/climpred.git@refs/pull/566/head"
   ]
  },
  {
   "cell_type": "code",
   "execution_count": 1,
   "metadata": {},
   "outputs": [
    {
     "data": {
      "text/plain": [
       "<dask.config.set at 0x2b8433900ee0>"
      ]
     },
     "execution_count": 1,
     "metadata": {},
     "output_type": "execute_result"
    }
   ],
   "source": [
    "import cftime\n",
    "import numpy as np\n",
    "import xarray as xr\n",
    "import climpred\n",
    "import glob\n",
    "from tqdm import tqdm\n",
    "import dask.array as da\n",
    "import cartopy.crs as ccrs\n",
    "import matplotlib.pyplot as plt\n",
    "import seaborn as sns\n",
    "from matplotlib.ticker import FixedLocator\n",
    "import warnings\n",
    "warnings.filterwarnings(\"ignore\")\n",
    "\n",
    "from dask.distributed import Client\n",
    "import dask.config\n",
    "dask.config.set({\"array.slicing.split_large_chunks\": False})"
   ]
  },
  {
   "cell_type": "code",
   "execution_count": 3,
   "metadata": {},
   "outputs": [],
   "source": [
    "#client = Client(\"tcp://10.12.205.14:36622\")"
   ]
  },
  {
   "cell_type": "code",
   "execution_count": 49,
   "metadata": {},
   "outputs": [],
   "source": [
    "verifdata = \"CPC\" #can be ERA5 or CPC\n",
    "#domain = \"global\"\n",
    "domain = \"North America\"\n",
    "metric = \"rps\" #can be rps, crps, crpss, rmse, acc\n",
    "if metric == \"acc\" or metric==\"rmse\":\n",
    "    comp=\"e2o\"\n",
    "    dim=\"init\"\n",
    "else:\n",
    "    comp=\"m2o\"\n",
    "    dim=[\"init\",\"member\"]\n",
    "v='TAS'"
   ]
  },
  {
   "cell_type": "code",
   "execution_count": 5,
   "metadata": {},
   "outputs": [],
   "source": [
    "hinda2 = xr.open_zarr(f\"/glade/campaign/cesm/development/cross-wg/S2S/jaye/CESM2.S2S.tas_2m.anoms.wklead.zarr/\", consolidated=True)\n",
    "hinda1 = xr.open_zarr(f\"/glade/campaign/cesm/development/cross-wg/S2S/jaye/CESM1.S2S.tas_2m.anoms.wklead.zarr/\", consolidated=True)\n",
    "hindaw = xr.open_zarr(f\"/glade/campaign/cesm/development/cross-wg/S2S/jaye/WACCM.S2S.tas_2m.anoms.wklead.zarr/\", consolidated=True)\n",
    "verif = xr.open_zarr(f\"/glade/campaign/cesm/development/cross-wg/S2S/jaye/{verifdata}.tas.zarr/\", consolidated=True)\n",
    "land = xr.open_dataset(\"/glade/work/jaye/landsea.nc\")"
   ]
  },
  {
   "cell_type": "code",
   "execution_count": 6,
   "metadata": {},
   "outputs": [],
   "source": [
    "# converting to a proleptic gregorian calendar since the observations\n",
    "# have leap years. you could also just drop the leap year days from\n",
    "# the obs.\n",
    "hinda2[\"init\"] = [cftime.DatetimeProlepticGregorian(d.year, d.month, d.day) for d in hinda2[\"init\"].values]\n",
    "hinda1[\"init\"] = [cftime.DatetimeProlepticGregorian(d.year, d.month, d.day) for d in hinda1[\"init\"].values]\n",
    "hindaw[\"init\"] = [cftime.DatetimeProlepticGregorian(d.year, d.month, d.day) for d in hindaw[\"init\"].values]\n",
    "\n",
    "# designate the lead time step unit.\n",
    "hinda2[\"lead\"].attrs[\"units\"] = \"days\"\n",
    "hinda1[\"lead\"].attrs[\"units\"] = \"days\"\n",
    "hindaw[\"lead\"].attrs[\"units\"] = \"days\""
   ]
  },
  {
   "cell_type": "code",
   "execution_count": 7,
   "metadata": {},
   "outputs": [],
   "source": [
    "# Convert our verification product to the same calendar type.\n",
    "# Climpred just needs to see the same datetime object styles for\n",
    "# alignment. You could use numpy datestrings or pandas on both,\n",
    "# cftime.noleap or gregorian, etc.\n",
    "def convert_to_cftime(x):\n",
    "    x = str(x)\n",
    "    y, m, d = x.split(\"-\")\n",
    "    y = int(y)\n",
    "    m = int(m)\n",
    "    d = int(d.split(\"T\")[0])\n",
    "    return cftime.DatetimeProlepticGregorian(y, m, d)\n",
    "\n",
    "\n",
    "verif[\"time\"] = [convert_to_cftime(t) for t in verif.time.values]"
   ]
  },
  {
   "cell_type": "code",
   "execution_count": 8,
   "metadata": {},
   "outputs": [],
   "source": [
    "hindaw = hindaw.sel(init=slice(\"1999-01-01\", \"2015-12-31\"))\n",
    "hinda1 = hinda1.sel(init=slice(\"1999-01-01\", \"2015-12-31\"))\n",
    "hinda2 = hinda2.sel(init=slice(\"1999-01-01\", \"2015-12-31\"))\n",
    "verif = verif.sel(time=slice(\"1999-01-01\",\"2015-12-31\"))"
   ]
  },
  {
   "cell_type": "code",
   "execution_count": 9,
   "metadata": {},
   "outputs": [],
   "source": [
    "#Weird stuff in new zealand happening. This is easiest way to fix that i have found.\n",
    "if verifdata==\"CPC\":\n",
    "    verif = verif.where(-100<verif.TAS)\n",
    "    verif = verif.where(100>verif.TAS)"
   ]
  },
  {
   "cell_type": "code",
   "execution_count": 10,
   "metadata": {},
   "outputs": [],
   "source": [
    "verif = verif.isel(lat=slice(0,-1))\n",
    "hinda2 = hinda2.isel(lat=slice(0,-1))\n",
    "hinda1 = hinda1.isel(lat=slice(0,-1))\n",
    "hindaw = hindaw.isel(lat=slice(0,-1))\n",
    "verif.coords['mask'] = ((\"lat\",\"lon\"),land.LSMASK)\n",
    "hinda2.coords['mask'] = ((\"lat\",\"lon\"),land.LSMASK)\n",
    "hinda1.coords['mask'] = ((\"lat\",\"lon\"),land.LSMASK)\n",
    "hindaw.coords['mask'] = ((\"lat\",\"lon\"),land.LSMASK)"
   ]
  },
  {
   "cell_type": "code",
   "execution_count": 11,
   "metadata": {},
   "outputs": [],
   "source": [
    "if domain == \"North America\":\n",
    "    hinda2 = hinda2.sel(lat=slice(15.0, 75.0))\n",
    "    hinda2 = hinda2.sel(lon=slice(190.0, 305.0))\n",
    "    hinda1 = hinda1.sel(lat=slice(15.0, 75.0))\n",
    "    hinda1 = hinda1.sel(lon=slice(190.0, 305.0))\n",
    "    hindaw = hindaw.sel(lat=slice(15.0, 75.0))\n",
    "    hindaw = hindaw.sel(lon=slice(190.0, 305.0))\n",
    "    verif = verif.sel(lat=slice(15.0, 75.0))\n",
    "    verif = verif.sel(lon=slice(190.0, 305.0))"
   ]
  },
  {
   "cell_type": "code",
   "execution_count": 12,
   "metadata": {},
   "outputs": [],
   "source": [
    "hinda2 = hinda2.where(hinda2.mask==1)\n",
    "hinda1 = hinda1.where(hinda1.mask==1)\n",
    "hindaw = hindaw.where(hindaw.mask==1)\n",
    "verif = verif.where(verif.mask==1)"
   ]
  },
  {
   "cell_type": "code",
   "execution_count": 13,
   "metadata": {},
   "outputs": [],
   "source": [
    "verif = verif.chunk({\"time\": -1, \"lat\": \"auto\", \"lon\": \"auto\"}).persist()\n",
    "hindaw = hindaw.chunk({\"member\": -1, \"init\": -1, \"lead\": \"auto\", \"lat\": 36, \"lon\": 72}).persist()\n",
    "hinda1 = hinda1.chunk({\"member\": -1, \"init\": -1, \"lead\": \"auto\", \"lat\": 36, \"lon\": 72}).persist()\n",
    "hinda2 = hinda2.chunk({\"member\": -1, \"init\": -1, \"lead\": \"auto\", \"lat\": 36, \"lon\": 72}).persist()"
   ]
  },
  {
   "cell_type": "code",
   "execution_count": 14,
   "metadata": {},
   "outputs": [],
   "source": [
    "hindaw_djf = hindaw.sel(init=hindaw.init.dt.season==\"DJF\")\n",
    "hinda1_djf = hinda1.sel(init=hinda1.init.dt.season==\"DJF\")\n",
    "hinda1_jja = hinda1.sel(init=hinda1.init.dt.season==\"JJA\")\n",
    "hinda2_djf = hinda2.sel(init=hinda2.init.dt.season==\"DJF\")\n",
    "hinda2_jja = hinda2.sel(init=hinda2.init.dt.season==\"JJA\")\n",
    "verif_djf = verif.sel(time=verif.time.dt.season==\"DJF\")\n",
    "verif_jja = verif.sel(time=verif.time.dt.season==\"JJA\")"
   ]
  },
  {
   "cell_type": "code",
   "execution_count": 15,
   "metadata": {},
   "outputs": [],
   "source": [
    "hinda1_5_djf = hinda1_djf.sel(member = slice(0,4))\n",
    "hinda2_5_djf = hinda2_djf.sel(member = slice(0,4))\n",
    "hinda1_5_jja = hinda1_jja.sel(member = slice(0,4))\n",
    "hinda2_5_jja = hinda2_jja.sel(member = slice(0,4))"
   ]
  },
  {
   "cell_type": "code",
   "execution_count": 16,
   "metadata": {},
   "outputs": [],
   "source": [
    "#Calculate ensemble spread\n",
    "ensprw_djf = hindaw_djf.TAS.std(\"member\").weighted(np.cos(np.deg2rad(hindaw_djf.lat))).mean((\"lat\",\"lon\")).mean(\"init\")\n",
    "enspr1_djf = hinda1_djf.TAS.std(\"member\").weighted(np.cos(np.deg2rad(hinda1_djf.lat))).mean((\"lat\",\"lon\")).mean(\"init\")\n",
    "enspr2_djf = hinda2_djf.TAS.std(\"member\").weighted(np.cos(np.deg2rad(hinda2_djf.lat))).mean((\"lat\",\"lon\")).mean(\"init\")\n",
    "enspr1_5_djf = hinda1_5_djf.TAS.std(\"member\").weighted(np.cos(np.deg2rad(hinda1_5_djf.lat))).mean((\"lat\",\"lon\")).mean(\"init\")\n",
    "enspr2_5_djf = hinda2_5_djf.TAS.std(\"member\").weighted(np.cos(np.deg2rad(hinda2_5_djf.lat))).mean((\"lat\",\"lon\")).mean(\"init\")\n",
    "enspr1_jja = hinda1_jja.TAS.std(\"member\").weighted(np.cos(np.deg2rad(hinda1_jja.lat))).mean((\"lat\",\"lon\")).mean(\"init\")\n",
    "enspr2_jja = hinda2_jja.TAS.std(\"member\").weighted(np.cos(np.deg2rad(hinda2_jja.lat))).mean((\"lat\",\"lon\")).mean(\"init\")\n",
    "enspr1_5_jja = hinda1_5_jja.TAS.std(\"member\").weighted(np.cos(np.deg2rad(hinda1_5_jja.lat))).mean((\"lat\",\"lon\")).mean(\"init\")\n",
    "enspr2_5_jja = hinda2_5_jja.TAS.std(\"member\").weighted(np.cos(np.deg2rad(hinda2_5_jja.lat))).mean((\"lat\",\"lon\")).mean(\"init\")"
   ]
  },
  {
   "cell_type": "code",
   "execution_count": 20,
   "metadata": {},
   "outputs": [],
   "source": [
    "hindcastw_djf = climpred.HindcastEnsemble(hindaw_djf).add_observations(verif_djf)\n",
    "hindcast1_djf = climpred.HindcastEnsemble(hinda1_djf).add_observations(verif_djf)\n",
    "hindcast2_djf = climpred.HindcastEnsemble(hinda2_djf).add_observations(verif_djf)\n",
    "hindcast1_5_djf = climpred.HindcastEnsemble(hinda1_5_djf).add_observations(verif_djf)\n",
    "hindcast2_5_djf = climpred.HindcastEnsemble(hinda2_5_djf).add_observations(verif_djf)\n",
    "hindcast1_jja = climpred.HindcastEnsemble(hinda1_jja).add_observations(verif_jja)\n",
    "hindcast2_jja = climpred.HindcastEnsemble(hinda2_jja).add_observations(verif_jja)\n",
    "hindcast1_5_jja = climpred.HindcastEnsemble(hinda1_5_jja).add_observations(verif_jja)\n",
    "hindcast2_5_jja = climpred.HindcastEnsemble(hinda2_5_jja).add_observations(verif_jja)"
   ]
  },
  {
   "cell_type": "markdown",
   "metadata": {},
   "source": [
    "# North America mean"
   ]
  },
  {
   "cell_type": "code",
   "execution_count": 21,
   "metadata": {},
   "outputs": [],
   "source": [
    "import xskillscore as xs"
   ]
  },
  {
   "cell_type": "code",
   "execution_count": 88,
   "metadata": {},
   "outputs": [],
   "source": [
    "# simple North America mean\n",
    "hindcast2_djf_na = hindcast2_djf.where(hindaw.mask==1).mean(['lon','lat']).compute()"
   ]
  },
  {
   "cell_type": "code",
   "execution_count": 89,
   "metadata": {},
   "outputs": [],
   "source": [
    "# create bins with xs helper function for quantiles\n",
    "obs_bins = xs.core.utils.quantile_edges_pad_lower_upper(hindcast2_djf_na.get_observations(), edges=[.33,.66],lower=-np.inf, upper=np.inf,dim=['time'])\n",
    "forecast_bins = xs.core.utils.quantile_edges_pad_lower_upper(hindcast2_djf_na.get_initialized(), edges=[.33,.66],lower=-np.inf, upper=np.inf,dim=['init','member','lead'])"
   ]
  },
  {
   "cell_type": "code",
   "execution_count": 90,
   "metadata": {},
   "outputs": [
    {
     "data": {
      "text/plain": [
       "Text(0.5, 1.0, 'Forecast distribution')"
      ]
     },
     "execution_count": 90,
     "metadata": {},
     "output_type": "execute_result"
    },
    {
     "data": {
      "image/png": "[encoded data removed]",
      "text/plain": [
       "<Figure size 720x288 with 2 Axes>"
      ]
     },
     "metadata": {
      "needs_background": "light"
     },
     "output_type": "display_data"
    }
   ],
   "source": [
    "fig,ax=plt.subplots(ncols=2,nrows=1,figsize=(10,4),sharex=True, sharey=True)\n",
    "hindcast2_djf_na.get_observations().TAS.plot.hist(bins=40,ax=ax[0], density=True)\n",
    "for e in obs_bins.category_edge[1:-1]:\n",
    "    ax[0].axvline(x=bins.sel(category_edge=e).TAS,c='k')\n",
    "    \n",
    "ax[0].set_title('Observations distribution')\n",
    "hindcast2_djf_na.get_initialized().TAS.plot.hist(bins=40,ax=ax[1], density=True)\n",
    "for e in forecast_bins.category_edge[1:-1]:\n",
    "    ax[1].axvline(x=bins.sel(category_edge=e).TAS,c='k')\n",
    "ax[1].set_title('Forecast distribution')"
   ]
  },
  {
   "cell_type": "code",
   "execution_count": 91,
   "metadata": {},
   "outputs": [],
   "source": [
    "skill = hindcast2_djf_na.verify(metric=\"rps\",alignment=\"maximize\",comparison=comp,dim=dim,reference=['climatology','persistence'],category_edges=(obs_bins,forecast_bins))"
   ]
  },
  {
   "cell_type": "code",
   "execution_count": 93,
   "metadata": {},
   "outputs": [
    {
     "data": {
      "image/png": "[encoded data removed]",
      "text/plain": [
       "<Figure size 432x288 with 1 Axes>"
      ]
     },
     "metadata": {
      "needs_background": "light"
     },
     "output_type": "display_data"
    },
    {
     "data": {
      "text/plain": [
       "Text(0.5, 1.0, 'RPSS positive: initialized better than climatology or persistence')"
      ]
     },
     "execution_count": 93,
     "metadata": {},
     "output_type": "execute_result"
    },
    {
     "data": {
      "image/png": "[encoded data removed]",
      "text/plain": [
       "<Figure size 432x288 with 1 Axes>"
      ]
     },
     "metadata": {
      "needs_background": "light"
     },
     "output_type": "display_data"
    }
   ],
   "source": [
    "skill[v].plot(hue='skill')\n",
    "plt.title('RPS skill')\n",
    "plt.show()\n",
    "\n",
    "# RPSS with respect to climatology or persistence\n",
    "rpss = 1 - skill.sel(skill='initialized')/skill.drop_sel(skill='initialized')\n",
    "rpss[v].plot(hue='skill')\n",
    "plt.axhline(y=0,c='gray',ls='--')\n",
    "plt.ylim([None,1])\n",
    "plt.title('RPSS positive: initialized better than climatology or persistence')"
   ]
  },
  {
   "cell_type": "code",
   "execution_count": 94,
   "metadata": {},
   "outputs": [],
   "source": [
    "hindcast2_djf_na_bias_removed = hindcast2_djf_na.drop('dayofyear').remove_bias(alignment=\"maximize\")"
   ]
  },
  {
   "cell_type": "code",
   "execution_count": 84,
   "metadata": {},
   "outputs": [],
   "source": [
    "skill = hindcast2_djf_na_bias_removed.verify(metric=\"rps\",alignment=\"maximize\",comparison=comp,dim=dim,reference=['climatology','persistence'],category_edges=(obs_bins,forecast_bins))"
   ]
  },
  {
   "cell_type": "code",
   "execution_count": 86,
   "metadata": {},
   "outputs": [
    {
     "ename": "AssertionError",
     "evalue": "",
     "output_type": "error",
     "traceback": [
      "\u001b[0;31m---------------------------------------------------------------------------\u001b[0m",
      "\u001b[0;31mAssertionError\u001b[0m                            Traceback (most recent call last)",
      "\u001b[0;32m<ipython-input-86-8aab54cadba5>\u001b[0m in \u001b[0;36m<module>\u001b[0;34m\u001b[0m\n\u001b[0;32m----> 1\u001b[0;31m \u001b[0;32massert\u001b[0m \u001b[0;34m'dayofyear'\u001b[0m \u001b[0;32mnot\u001b[0m \u001b[0;32min\u001b[0m \u001b[0mskill\u001b[0m\u001b[0;34m.\u001b[0m\u001b[0mdims\u001b[0m\u001b[0;34m\u001b[0m\u001b[0;34m\u001b[0m\u001b[0m\n\u001b[0m",
      "\u001b[0;31mAssertionError\u001b[0m: "
     ]
    }
   ],
   "source": [
    "assert 'dayofyear' not in skill.dims  # have to fix that"
   ]
  },
  {
   "cell_type": "code",
   "execution_count": null,
   "metadata": {},
   "outputs": [],
   "source": [
    "skill[v].plot(hue='skill')\n",
    "plt.title('RPS skill')\n",
    "plt.show()\n",
    "\n",
    "# RPSS with respect to climatology or persistence\n",
    "rpss = 1 - skill.sel(skill='initialized')/skill.drop_sel(skill='initialized')\n",
    "rpss[v].plot(hue='skill')\n",
    "plt.axhline(y=0,c='gray',ls='--')\n",
    "plt.ylim([None,1])\n",
    "plt.title('RPSS with respect to climatology or persistence reference skill')"
   ]
  },
  {
   "cell_type": "markdown",
   "metadata": {},
   "source": [
    "# North America map"
   ]
  },
  {
   "cell_type": "code",
   "execution_count": 97,
   "metadata": {},
   "outputs": [],
   "source": [
    "hindcast2_djf_na = hindcast2_djf.where(hindaw.mask==1)"
   ]
  },
  {
   "cell_type": "code",
   "execution_count": 109,
   "metadata": {},
   "outputs": [],
   "source": [
    "# create bins with xs helper function for quantiles\n",
    "obs_bins = xs.core.utils.quantile_edges_pad_lower_upper(hindcast2_djf_na.get_observations(), edges=[.33,.66],lower=-10., upper=10.,dim=['time'])\n",
    "forecast_bins = xs.core.utils.quantile_edges_pad_lower_upper(hindcast2_djf_na.get_initialized(), edges=[.33,.66],lower=-10, upper=10.,dim=['init','member','lead'])"
   ]
  },
  {
   "cell_type": "code",
   "execution_count": 111,
   "metadata": {},
   "outputs": [
    {
     "data": {
      "text/plain": [
       "<xarray.plot.facetgrid.FacetGrid at 0x2b84c7749700>"
      ]
     },
     "execution_count": 111,
     "metadata": {},
     "output_type": "execute_result"
    },
    {
     "data": {
      "image/png": "[encoded data removed]",
      "text/plain": [
       "<Figure size 936x216 with 5 Axes>"
      ]
     },
     "metadata": {
      "needs_background": "light"
     },
     "output_type": "display_data"
    }
   ],
   "source": [
    "obs_bins[v].plot(col='category_edge',robust=True)"
   ]
  },
  {
   "cell_type": "code",
   "execution_count": null,
   "metadata": {},
   "outputs": [],
   "source": [
    "obs_bins[v].sel(category_edge=0.33).plot()"
   ]
  },
  {
   "cell_type": "code",
   "execution_count": null,
   "metadata": {},
   "outputs": [],
   "source": [
    "skill = hindcast2_djf_na.verify(metric=\"rps\",alignment=\"maximize\",comparison=comp,dim=dim,\n",
    "                                reference=['climatology','persistence'],category_edges=(obs_bins,forecast_bins))"
   ]
  },
  {
   "cell_type": "code",
   "execution_count": null,
   "metadata": {},
   "outputs": [],
   "source": [
    "%time skill = skill.compute()"
   ]
  },
  {
   "cell_type": "code",
   "execution_count": null,
   "metadata": {},
   "outputs": [],
   "source": [
    "skill[v].plot(col='lead',row='skill', robust=True)"
   ]
  },
  {
   "cell_type": "code",
   "execution_count": null,
   "metadata": {},
   "outputs": [],
   "source": [
    "rpss = 1 - skill.sel(skill='initialized')/skill.drop_sel(skill='initialized')\n",
    "rpss[v].plot(col='lead',row='skill', robust=True)"
   ]
  },
  {
   "cell_type": "code",
   "execution_count": null,
   "metadata": {},
   "outputs": [],
   "source": []
  },
  {
   "cell_type": "code",
   "execution_count": null,
   "metadata": {},
   "outputs": [],
   "source": []
  },
  {
   "cell_type": "code",
   "execution_count": null,
   "metadata": {},
   "outputs": [],
   "source": []
  },
  {
   "cell_type": "code",
   "execution_count": null,
   "metadata": {},
   "outputs": [],
   "source": []
  },
  {
   "cell_type": "code",
   "execution_count": null,
   "metadata": {},
   "outputs": [],
   "source": []
  },
  {
   "cell_type": "code",
   "execution_count": null,
   "metadata": {},
   "outputs": [],
   "source": [
    "# Will imeplemnt here later (Abby's code)\n",
    "if metric==\"rps\":\n",
    "\n",
    "    category_edges=verif_djf.quantile(q=[.33,.66], dim=['time'])\n",
    "    \n",
    "    \n",
    "    rpsw_djf = hindcastw_djf.verify(metric=metric, comparison=comp, dim=dim, alignment='maximize', category_edges=bins)\n",
    "    rps1_djf = hindcast1_djf.verify(metric=metric, comparison=comp, dim=dim, alignment='maximize', category_edges=bins)\n",
    "    rps2_djf = hindcast2_djf.verify(metric=metric, comparison=comp, dim=dim, alignment='maximize', category_edges=bins)\n",
    "    rps1_5_djf = hindcast1_5_djf.verify(metric=metric, comparison=comp, dim=dim, alignment='maximize', category_edges=bins)\n",
    "    rps2_5_djf = hindcast2_5_djf.verify(metric=metric, comparison=comp, dim=dim, alignment='maximize', category_edges=bins)\n",
    "    \n",
    "    rps2_djf = hindcast2_djf.verify(metric=__rps, comparison=comp, dim=['init','member'], alignment='maximize',category_edges)\n",
    "    \n",
    "    rps1_jja = hindcast1_jja.verify(metric=metric, comparison=comp, dim=dim, alignment='maximize', category_edges=bins)\n",
    "    rps2_jja = hindcast2_jja.verify(metric=metric, comparison=comp, dim=dim, alignment='maximize', category_edges=bins)\n",
    "    rps1_5_jja = hindcast1_5_jja.verify(metric=metric, comparison=comp, dim=dim, alignment='maximize', category_edges=bins)\n",
    "    rps2_5_jja = hindcast2_5_jja.verify(metric=metric, comparison=comp, dim=dim, alignment='maximize', category_edges=bins)\n",
    "else:\n",
    "    rpsw_djf = hindcastw_djf.verify(metric=metric, comparison=comp, dim=dim, alignment='maximize')\n",
    "    rps1_djf = hindcast1_djf.verify(metric=metric, comparison=comp, dim=dim, alignment='maximize')\n",
    "    rps2_djf = hindcast2_djf.verify(metric=metric, comparison=comp, dim=dim, alignment='maximize')\n",
    "    rps1_5_djf = hindcast1_5_djf.verify(metric=metric, comparison=comp, dim=dim, alignment='maximize')\n",
    "    rps2_5_djf = hindcast2_5_djf.verify(metric=metric, comparison=comp, dim=dim, alignment='maximize')\n",
    "    rps1_jja = hindcast1_jja.verify(metric=metric, comparison=comp, dim=dim, alignment='maximize')\n",
    "    rps2_jja = hindcast2_jja.verify(metric=metric, comparison=comp, dim=dim, alignment='maximize')\n",
    "    rps1_5_jja = hindcast1_5_jja.verify(metric=metric, comparison=comp, dim=dim, alignment='maximize')\n",
    "    rps2_5_jja = hindcast2_5_jja.verify(metric=metric, comparison=comp, dim=dim, alignment='maximize')"
   ]
  },
  {
   "cell_type": "code",
   "execution_count": null,
   "metadata": {},
   "outputs": [],
   "source": []
  },
  {
   "cell_type": "code",
   "execution_count": null,
   "metadata": {},
   "outputs": [],
   "source": [
    "rps2_djf = hindcast2_djf.verify(metric=__rps, comparison=comp, dim=['init','member'], alignment='maximize', category_edges=verif_djf.quantile(q=[.33,.66], dim=['time']))"
   ]
  },
  {
   "cell_type": "code",
   "execution_count": null,
   "metadata": {},
   "outputs": [],
   "source": [
    "if metric==\"rps\":\n",
    "    rpsw_djf = rpsw_djf.where(hindaw.mask==1)\n",
    "    rps1_djf = rps1_djf.where(hindaw.mask==1)\n",
    "    rps2_djf = rps2_djf.where(hindaw.mask==1)\n",
    "    rps1_5_djf = rps1_5_djf.where(hindaw.mask==1)\n",
    "    rps2_5_djf = rps2_5_djf.where(hindaw.mask==1)\n",
    "    rps1_jja = rps1_jja.where(hindaw.mask==1)\n",
    "    rps2_jja = rps2_jja.where(hindaw.mask==1)\n",
    "    rps1_5_jja = rps1_5_jja.where(hindaw.mask==1)\n",
    "    rps2_5_jja = rps2_5_jja.where(hindaw.mask==1)\n",
    "    "
   ]
  },
  {
   "cell_type": "code",
   "execution_count": null,
   "metadata": {},
   "outputs": [],
   "source": [
    "#rps2_djf.TAS.plot(col='lead')\n",
    "#rps1_jja.TAS.sel(lead=slice(2,3)).mean(\"lead\").plot()"
   ]
  },
  {
   "cell_type": "code",
   "execution_count": null,
   "metadata": {},
   "outputs": [],
   "source": [
    "rpsw_djf_aw = rpsw_djf.weighted(np.cos(np.deg2rad(rpsw_djf.lat))).mean((\"lat\",\"lon\")).persist()\n",
    "rps1_djf_aw = rps1_djf.weighted(np.cos(np.deg2rad(rps1_djf.lat))).mean((\"lat\",\"lon\")).persist()\n",
    "rps2_djf_aw = rps2_djf.weighted(np.cos(np.deg2rad(rps2_djf.lat))).mean((\"lat\",\"lon\")).persist()\n",
    "rps1_5_djf_aw = rps1_5_djf.weighted(np.cos(np.deg2rad(rps1_5_djf.lat))).mean((\"lat\",\"lon\")).persist()\n",
    "rps2_5_djf_aw = rps2_5_djf.weighted(np.cos(np.deg2rad(rps2_5_djf.lat))).mean((\"lat\",\"lon\")).persist()\n",
    "rps1_jja_aw = rps1_jja.weighted(np.cos(np.deg2rad(rps1_djf.lat))).mean((\"lat\",\"lon\")).persist()\n",
    "rps2_jja_aw = rps2_jja.weighted(np.cos(np.deg2rad(rps2_djf.lat))).mean((\"lat\",\"lon\")).persist()\n",
    "rps1_5_jja_aw = rps1_5_jja.weighted(np.cos(np.deg2rad(rps1_5_djf.lat))).mean((\"lat\",\"lon\")).persist()\n",
    "rps2_5_jja_aw = rps2_5_jja.weighted(np.cos(np.deg2rad(rps2_5_djf.lat))).mean((\"lat\",\"lon\")).persist()"
   ]
  },
  {
   "cell_type": "code",
   "execution_count": null,
   "metadata": {},
   "outputs": [],
   "source": [
    "#Ensemble spread\n",
    "#hinda2_djf.TAS.std(\"member\").mean((\"lat\",\"lon\")).mean(\"init\").plot()"
   ]
  },
  {
   "cell_type": "code",
   "execution_count": null,
   "metadata": {},
   "outputs": [],
   "source": [
    "#Ensemble mean if metric = 'RMSE\"'\n",
    "rps2_djf.TAS.mean((\"lat\", \"lon\")).plot()"
   ]
  },
  {
   "cell_type": "code",
   "execution_count": null,
   "metadata": {},
   "outputs": [],
   "source": [
    "barWidth = 0.15\n",
    "barsw = [rpsw_djf_aw.TAS.sel(lead=slice(0,1)).mean(\"lead\").compute(),\n",
    "         rpsw_djf_aw.TAS.sel(lead=slice(2,3)).mean(\"lead\").compute(),\n",
    "         rpsw_djf_aw.TAS.sel(lead=slice(4,5)).mean(\"lead\").compute()]\n",
    "rw = np.arange(len(barsw))\n",
    "bars2_5 = [rps2_5_djf_aw.TAS.sel(lead=slice(0,1)).mean(\"lead\").compute(),\n",
    "           rps2_5_djf_aw.TAS.sel(lead=slice(2,3)).mean(\"lead\").compute(),\n",
    "           rps2_5_djf_aw.TAS.sel(lead=slice(4,5)).mean(\"lead\").compute()]\n",
    "r2_5 = [x + barWidth + 0.025 for x in rw]\n",
    "bars2 = [rps2_djf_aw.TAS.sel(lead=slice(0,1)).mean(\"lead\").compute(),\n",
    "         rps2_djf_aw.TAS.sel(lead=slice(2,3)).mean(\"lead\").compute(),\n",
    "         rps2_djf_aw.TAS.sel(lead=slice(4,5)).mean(\"lead\").compute()]\n",
    "r2 = [x + barWidth + 0.025 for x in r2_5]\n",
    "bars1_5 = [rps1_5_djf_aw.TAS.sel(lead=slice(0,1)).mean(\"lead\").compute(),\n",
    "           rps1_5_djf_aw.TAS.sel(lead=slice(2,3)).mean(\"lead\").compute(),\n",
    "           rps1_5_djf_aw.TAS.sel(lead=slice(4,5)).mean(\"lead\").compute()]\n",
    "r1_5 = [x + barWidth + 0.025 for x in r2]\n",
    "bars1 = [rps1_djf_aw.TAS.sel(lead=slice(0,1)).mean(\"lead\").compute(),\n",
    "         rps1_djf_aw.TAS.sel(lead=slice(2,3)).mean(\"lead\").compute(),\n",
    "         rps1_djf_aw.TAS.sel(lead=slice(4,5)).mean(\"lead\").compute()]\n",
    "r1 = [x + barWidth + 0.025 for x in r1_5]"
   ]
  },
  {
   "cell_type": "code",
   "execution_count": null,
   "metadata": {},
   "outputs": [],
   "source": [
    "plt.bar(rw, barsw, width = barWidth, color = \"#2f70b7\", edgecolor=\"white\", label=\"CESM2-WACCM(5)\")\n",
    "plt.bar(r2_5, bars2_5, width = barWidth, color = \"#d1a3ac\", edgecolor=\"white\", label=\"CESM2-CAM(5)\")\n",
    "plt.bar(r2, bars2, width = barWidth, color = \"#942532\", edgecolor=\"white\", label=\"CESM2-CAM(10)\")\n",
    "plt.bar(r1_5, bars1_5, width = barWidth, color = \"#c9e4a9\", edgecolor=\"white\", label=\"CESM1-CAM(5)\")\n",
    "plt.bar(r1, bars1, width = barWidth, color = \"#7cbd3f\", edgecolor=\"white\", label=\"CESM1-CAM(10)\")\n",
    "plt.xticks([r + barWidth + 0.2 for r in range(len(bars1))], [\"Weeks 1-2\", \"Weeks 3-4\", \"Weeks 5-6\"])\n",
    "plt.tick_params(axis = \"y\", direction = \"in\", which = \"both\")\n",
    "plt.tick_params(axis = \"y\", which = \"minor\", left = False)\n",
    "plt.tick_params(axis = \"x\", which = \"both\", bottom = False, top = False)\n",
    "if metric==\"acc\":\n",
    "    y_locator = FixedLocator([0.1,0.2,0.3,0.4,0.5,0.6,0.7,0.8,0.9,1.0]) #for rps and acc\n",
    "    plt.gca().yaxis.set_major_locator(y_locator) #for rps and acc\n",
    "    plt.ylim(0,1.0) #for rps and acc\n",
    "elif metric==\"rps\":\n",
    "    plt.ylim(0,1.5)\n",
    "elif metric==\"crpss\":\n",
    "    plt.ylim(-0.3,0.1) #for crpss\n",
    "elif metric==\"crps\":\n",
    "    plt.ylim(0,6.0) #for crps\n",
    "elif metric==\"rmse\":\n",
    "    plt.ylim(0,10.0) #for rmse\n",
    "plt.ylabel(metric.upper())\n",
    "plt.title(\"2m Temperature \"+metric.upper()+\" for \"+domain+\" land (DJF) - \"+verifdata)\n",
    "plt.legend(borderaxespad=0.6,edgecolor=\"black\")\n",
    "if domain == \"North America\":\n",
    "    plt.savefig(metric+\"_NAland_DJF_\"+verifdata+\".jpg\",dpi=300,bbox_inches=\"tight\")\n",
    "elif domain == \"global\":\n",
    "    plt.savefig(metric+\"_globalland_DJF_\"+verifdata+\".jpg\",dpi=300,bbox_inches=\"tight\")"
   ]
  },
  {
   "cell_type": "code",
   "execution_count": null,
   "metadata": {},
   "outputs": [],
   "source": [
    "barWidth = 0.175\n",
    "bars2_5 = [rps2_5_jja_aw.TAS.sel(lead=slice(0,1)).mean(\"lead\").persist(),\n",
    "           rps2_5_jja_aw.TAS.sel(lead=slice(2,3)).mean(\"lead\").persist(),\n",
    "           rps2_5_jja_aw.TAS.sel(lead=slice(4,5)).mean(\"lead\").persist()]\n",
    "r2_5 = np.arange(len(bars2_5))\n",
    "bars2 = [rps2_jja_aw.TAS.sel(lead=slice(0,1)).mean(\"lead\").persist(),\n",
    "         rps2_jja_aw.TAS.sel(lead=slice(2,3)).mean(\"lead\").persist(),\n",
    "         rps2_jja_aw.TAS.sel(lead=slice(4,5)).mean(\"lead\").persist()]\n",
    "r2 = [x + barWidth + 0.025 for x in r2_5]\n",
    "bars1_5 = [rps1_5_jja_aw.TAS.sel(lead=slice(0,1)).mean(\"lead\").persist(),\n",
    "           rps1_5_jja_aw.TAS.sel(lead=slice(2,3)).mean(\"lead\").persist(),\n",
    "           rps1_5_jja_aw.TAS.sel(lead=slice(4,5)).mean(\"lead\").persist()]\n",
    "r1_5 = [x + barWidth + 0.025 for x in r2]\n",
    "bars1 = [rps1_jja_aw.TAS.sel(lead=slice(0,1)).mean(\"lead\").persist(),\n",
    "         rps1_jja_aw.TAS.sel(lead=slice(2,3)).mean(\"lead\").persist(),\n",
    "         rps1_jja_aw.TAS.sel(lead=slice(4,5)).mean(\"lead\").persist()]\n",
    "r1 = [x + barWidth + 0.025 for x in r1_5]"
   ]
  },
  {
   "cell_type": "code",
   "execution_count": null,
   "metadata": {},
   "outputs": [],
   "source": [
    "plt.bar(r2_5, bars2_5, width = barWidth, color = \"#d1a3ac\", edgecolor=\"white\", label=\"CESM2-CAM(5)\")\n",
    "plt.bar(r2, bars2, width = barWidth, color = \"#942532\", edgecolor=\"white\", label=\"CESM2-CAM(10)\")\n",
    "plt.bar(r1_5, bars1_5, width = barWidth, color = \"#c9e4a9\", edgecolor=\"white\", label=\"CESM1-CAM(5)\")\n",
    "plt.bar(r1, bars1, width = barWidth, color = \"#7cbd3f\", edgecolor=\"white\", label=\"CESM1-CAM(10)\")\n",
    "plt.xticks([r + barWidth + 0.2 for r in range(len(bars1))], [\"Weeks 1-2\", \"Weeks 3-4\", \"Weeks 5-6\"])\n",
    "plt.tick_params(axis = \"y\", direction = \"in\", which = \"both\")\n",
    "plt.tick_params(axis = \"y\", which = \"minor\", left = False)\n",
    "plt.tick_params(axis = \"x\", which = \"both\", bottom = False, top = False)\n",
    "if metric==\"acc\":\n",
    "    y_locator = FixedLocator([0.1,0.2,0.3,0.4,0.5,0.6,0.7,0.8,0.9,1.0]) #for rps and acc\n",
    "    plt.gca().yaxis.set_major_locator(y_locator) #for rps and acc\n",
    "    plt.ylim(0,1.0) #for rps and acc\n",
    "elif metric==\"rps\":\n",
    "    plt.ylim(0,1.5)\n",
    "elif metric==\"crpss\":\n",
    "    plt.ylim(-0.3,0.1) #for crpss\n",
    "elif metric==\"crps\":\n",
    "    plt.ylim(0,6.0) #for crps\n",
    "elif metric==\"rmse\":\n",
    "    plt.ylim(0,10.0) #for rmse\n",
    "plt.ylabel(metric.upper())\n",
    "plt.title(\"2m Temperature \"+metric.upper()+\" for \"+domain+\" land (JJA) - \"+verifdata)\n",
    "plt.legend(borderaxespad=0.6,edgecolor=\"black\")\n",
    "if domain == \"North America\":\n",
    "    plt.savefig(metric+\"_NAland_JJA_\"+verifdata+\".jpg\",dpi=300,bbox_inches=\"tight\")\n",
    "elif domain == \"global\":\n",
    "    plt.savefig(metric+\"_globalland_JJA_\"+verifdata+\".jpg\",dpi=300,bbox_inches=\"tight\")"
   ]
  },
  {
   "cell_type": "markdown",
   "metadata": {},
   "source": [
    "Bar plots for with both ensemble spread and rmse"
   ]
  },
  {
   "cell_type": "code",
   "execution_count": null,
   "metadata": {},
   "outputs": [],
   "source": [
    "ensprw_djf"
   ]
  },
  {
   "cell_type": "code",
   "execution_count": null,
   "metadata": {},
   "outputs": [],
   "source": [
    "barWidth = 0.075\n",
    "barsw = [rpsw_djf_aw.TAS.sel(lead=slice(0,1)).mean(\"lead\").compute(),\n",
    "         rpsw_djf_aw.TAS.sel(lead=slice(2,3)).mean(\"lead\").compute(),\n",
    "         rpsw_djf_aw.TAS.sel(lead=slice(4,5)).mean(\"lead\").compute()]\n",
    "rw = np.arange(len(barsw))\n",
    "barsw_s = [ensprw_djf.sel(lead=slice(0,1)).mean(\"lead\").compute(),\n",
    "           ensprw_djf.sel(lead=slice(2,3)).mean(\"lead\").compute(),\n",
    "           ensprw_djf.sel(lead=slice(4,5)).mean(\"lead\").compute()]\n",
    "rw_s = [x + barWidth + 0.025 for x in rw]\n",
    "bars2_5 = [rps2_5_djf_aw.TAS.sel(lead=slice(0,1)).mean(\"lead\").compute(),\n",
    "           rps2_5_djf_aw.TAS.sel(lead=slice(2,3)).mean(\"lead\").compute(),\n",
    "           rps2_5_djf_aw.TAS.sel(lead=slice(4,5)).mean(\"lead\").compute()]\n",
    "r2_5 = [x + barWidth + 0.025 for x in rw_s]\n",
    "bars2_5_s = [enspr2_5_djf.sel(lead=slice(0,1)).mean(\"lead\").compute(),\n",
    "           enspr2_5_djf.sel(lead=slice(2,3)).mean(\"lead\").compute(),\n",
    "           enspr2_5_djf.sel(lead=slice(4,5)).mean(\"lead\").compute()]\n",
    "r2_5_s = [x + barWidth + 0.025 for x in r2_5]\n",
    "bars2 = [rps2_djf_aw.TAS.sel(lead=slice(0,1)).mean(\"lead\").compute(),\n",
    "         rps2_djf_aw.TAS.sel(lead=slice(2,3)).mean(\"lead\").compute(),\n",
    "         rps2_djf_aw.TAS.sel(lead=slice(4,5)).mean(\"lead\").compute()]\n",
    "r2 = [x + barWidth + 0.025 for x in r2_5_s]\n",
    "bars2_s = [enspr2_djf.sel(lead=slice(0,1)).mean(\"lead\").compute(),\n",
    "           enspr2_djf.sel(lead=slice(2,3)).mean(\"lead\").compute(),\n",
    "           enspr2_djf.sel(lead=slice(4,5)).mean(\"lead\").compute()]\n",
    "r2_s = [x + barWidth + 0.025 for x in r2]\n",
    "bars1_5 = [rps1_5_djf_aw.TAS.sel(lead=slice(0,1)).mean(\"lead\").compute(),\n",
    "           rps1_5_djf_aw.TAS.sel(lead=slice(2,3)).mean(\"lead\").compute(),\n",
    "           rps1_5_djf_aw.TAS.sel(lead=slice(4,5)).mean(\"lead\").compute()]\n",
    "r1_5 = [x + barWidth + 0.025 for x in r2_s]\n",
    "bars1_5_s = [enspr1_5_djf.sel(lead=slice(0,1)).mean(\"lead\").compute(),\n",
    "             enspr1_5_djf.sel(lead=slice(2,3)).mean(\"lead\").compute(),\n",
    "             enspr1_5_djf.sel(lead=slice(4,5)).mean(\"lead\").compute()]\n",
    "r1_5_s = [x + barWidth + 0.025 for x in r1_5]\n",
    "bars1 = [rps1_djf_aw.TAS.sel(lead=slice(0,1)).mean(\"lead\").compute(),\n",
    "         rps1_djf_aw.TAS.sel(lead=slice(2,3)).mean(\"lead\").compute(),\n",
    "         rps1_djf_aw.TAS.sel(lead=slice(4,5)).mean(\"lead\").compute()]\n",
    "r1 = [x + barWidth + 0.025 for x in r1_5_s]\n",
    "bars1_s = [enspr1_djf.sel(lead=slice(0,1)).mean(\"lead\").compute(),\n",
    "           enspr1_djf.sel(lead=slice(2,3)).mean(\"lead\").compute(),\n",
    "           enspr1_djf.sel(lead=slice(4,5)).mean(\"lead\").compute()]\n",
    "r1_s = [x + barWidth + 0.025 for x in r1]"
   ]
  },
  {
   "cell_type": "code",
   "execution_count": null,
   "metadata": {},
   "outputs": [],
   "source": [
    "plt.bar(rw, barsw, width = barWidth, color = \"#2f70b7\", edgecolor=\"white\", label=\"CESM2-WACCM(5)\")\n",
    "plt.bar(rw_s, barsw_s, width = barWidth, color = \"#2f70b7\", edgecolor=\"white\", hatch=\"///\")\n",
    "plt.bar(r2_5, bars2_5, width = barWidth, color = \"#d1a3ac\", edgecolor=\"white\", label=\"CESM2-CAM(5)\")\n",
    "plt.bar(r2_5_s, bars2_5_s, width = barWidth, color = \"#d1a3ac\", edgecolor=\"white\", hatch=\"/\")\n",
    "plt.bar(r2, bars2, width = barWidth, color = \"#942532\", edgecolor=\"white\", label=\"CESM2-CAM(10)\")\n",
    "plt.bar(r2_s, bars2_s, width = barWidth, color = \"#942532\", edgecolor=\"white\", hatch=\"/\")\n",
    "plt.bar(r1_5, bars1_5, width = barWidth, color = \"#c9e4a9\", edgecolor=\"white\", label=\"CESM1-CAM(5)\")\n",
    "plt.bar(r1_5_s, bars1_5_s, width = barWidth, color = \"#c9e4a9\", edgecolor=\"white\", hatch=\"/\")\n",
    "plt.bar(r1, bars1, width = barWidth, color = \"#7cbd3f\", edgecolor=\"white\", label=\"CESM1-CAM(10)\")\n",
    "plt.bar(r1_s, bars1_s, width = barWidth, color = \"#7cbd3f\", edgecolor=\"white\", hatch=\"/\")\n",
    "plt.xticks([r + barWidth + 0.3 for r in range(len(bars1))], [\"Weeks 1-2\", \"Weeks 3-4\", \"Weeks 5-6\"])\n",
    "plt.tick_params(axis = \"y\", direction = \"in\", which = \"both\")\n",
    "plt.tick_params(axis = \"y\", which = \"minor\", left = False)\n",
    "plt.tick_params(axis = \"x\", which = \"both\", bottom = False, top = False)\n",
    "if metric==\"acc\":\n",
    "    y_locator = FixedLocator([0.1,0.2,0.3,0.4,0.5,0.6,0.7,0.8,0.9,1.0]) #for rps and acc\n",
    "    plt.gca().yaxis.set_major_locator(y_locator) #for rps and acc\n",
    "    plt.ylim(0,1.0) #for rps and acc\n",
    "elif metric==\"rps\":\n",
    "    plt.ylim(0,1.5)\n",
    "elif metric==\"crpss\":\n",
    "    plt.ylim(-0.3,0.1) #for crpss\n",
    "elif metric==\"crps\":\n",
    "    plt.ylim(0,6.0) #for crps\n",
    "elif metric==\"rmse\":\n",
    "    plt.ylim(0,10.0) #for rmse\n",
    "plt.ylabel(metric.upper())\n",
    "plt.title(\"2m Temperature \"+metric.upper()+\" for \"+domain+\" land (DJF) - \"+verifdata)\n",
    "plt.legend(borderaxespad=0.6,edgecolor=\"black\")\n",
    "if domain == \"North America\":\n",
    "    plt.savefig(metric+\"_NAland_DJF_\"+verifdata+\".jpg\",dpi=300,bbox_inches=\"tight\")\n",
    "elif domain == \"global\":\n",
    "    plt.savefig(metric+\"_globalland_DJF_\"+verifdata+\".jpg\",dpi=300,bbox_inches=\"tight\")"
   ]
  },
  {
   "cell_type": "code",
   "execution_count": null,
   "metadata": {},
   "outputs": [],
   "source": []
  },
  {
   "cell_type": "code",
   "execution_count": null,
   "metadata": {},
   "outputs": [],
   "source": []
  },
  {
   "cell_type": "code",
   "execution_count": null,
   "metadata": {},
   "outputs": [],
   "source": []
  },
  {
   "cell_type": "code",
   "execution_count": null,
   "metadata": {},
   "outputs": [],
   "source": []
  }
 ],
 "metadata": {
  "kernelspec": {
   "display_name": "Python [conda env:miniconda3-s2s]",
   "language": "python",
   "name": "conda-env-miniconda3-s2s-py"
  },
  "language_info": {
   "codemirror_mode": {
    "name": "ipython",
    "version": 3
   },
   "file_extension": ".py",
   "mimetype": "text/x-python",
   "name": "python",
   "nbconvert_exporter": "python",
   "pygments_lexer": "ipython3",
   "version": "3.8.8"
  }
 },
 "nbformat": 4,
 "nbformat_minor": 4
}
